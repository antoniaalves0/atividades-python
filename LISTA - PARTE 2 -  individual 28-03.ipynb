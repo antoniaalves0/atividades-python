{
 "cells": [
  {
   "cell_type": "code",
   "execution_count": null,
   "metadata": {},
   "outputs": [],
   "source": [
    "#1\n",
    "x = 1 \n",
    "while x <= 100 :\n",
    "    print(x)\n",
    "    x = x + 1"
   ]
  },
  {
   "cell_type": "code",
   "execution_count": null,
   "metadata": {},
   "outputs": [],
   "source": [
    "#2\n",
    "x = 100\n",
    "while x >= 1 :\n",
    "    print(x)\n",
    "    x = x - 1"
   ]
  },
  {
   "cell_type": "code",
   "execution_count": null,
   "metadata": {},
   "outputs": [],
   "source": [
    "#3\n",
    "num1 = int(input('digite um numero:'))\n",
    "num2 = int(input('digite um numero:'))\n",
    "num3 = int(input('digite um numero:'))\n",
    "num4 = int(input('digite um numero:'))\n",
    "num5 = int(input('digite um numero:'))\n",
    "\n",
    "soma = num1 + num2 + num3 + num4 + num5\n",
    "\n",
    "print('a soma é {}'.format(soma))"
   ]
  },
  {
   "cell_type": "code",
   "execution_count": null,
   "metadata": {},
   "outputs": [],
   "source": [
    "#4\n",
    "n = int(input('digite a qtd de numeros para calcular media: '))\n",
    "soma = 0\n",
    "c = 0\n",
    "while c < n :\n",
    "    num = float(input('digite um numero: '))\n",
    "    soma = soma + num\n",
    "    c = c + 1\n",
    "    \n",
    "media = soma / n \n",
    "print('a media dos {} numeros é: {}' .format(n,media))"
   ]
  },
  {
   "cell_type": "code",
   "execution_count": null,
   "metadata": {},
   "outputs": [],
   "source": [
    "#5\n",
    "n = int(input('digite a qtd de numeros para mostrar se é par: '))\n",
    "\n",
    "c = 0\n",
    "while c < n :\n",
    "    num = int(input('digite um numero: '))\n",
    "    c = c + 1\n",
    "    if  num % 2 == 0:\n",
    "        print('o numero {} É PAR' .format(num))\n",
    "    else:\n",
    "        print('o numero {} É IMPAR' .format(num))\n",
    "\n",
    "        "
   ]
  },
  {
   "cell_type": "code",
   "execution_count": null,
   "metadata": {},
   "outputs": [],
   "source": [
    "#6\n",
    "n = int(input('digite a qtd de numeros para mostrar se é impar: '))\n",
    "\n",
    "c = 0\n",
    "while c < n :\n",
    "    num = int(input('digite um numero: '))\n",
    "    c = c + 1\n",
    "    if  num % 2 == 0:\n",
    "        print('o numero {} É IMPAR' .format(num))\n",
    "    else:\n",
    "        print('o numero {} É PAR' .format(num))"
   ]
  },
  {
   "cell_type": "code",
   "execution_count": null,
   "metadata": {},
   "outputs": [],
   "source": [
    "#7\n",
    "n = int(input('digite a quantidade de numeros:'))\n",
    "soma = 0\n",
    "maior = 0\n",
    "menor = 0 \n",
    "for c in range (n):\n",
    "    num = int(input('digite um numero: '))\n",
    "    soma = soma + num \n",
    "    if num < menor :\n",
    "        menor = num \n",
    "    if num > maior:\n",
    "        maior = num\n",
    "print('a soma dos numeros é: {}' .format(soma))\n",
    "print('o menor numero é: {}' .format(menor))\n",
    "print('o maior numero é: {}' .format(maior))\n",
    "\n",
    "\n",
    "\n",
    "    \n",
    "    \n",
    "\n",
    "\n",
    "    \n"
   ]
  },
  {
   "cell_type": "code",
   "execution_count": null,
   "metadata": {},
   "outputs": [],
   "source": [
    "#8\n",
    "pessoas = []\n",
    "\n",
    "for i in range(500):\n",
    "    print(\"Digite os dados da pessoa \")\n",
    "    sexo = input(\"Sexo (M/F): \").upper()\n",
    "    cor_olhos = input(\"Cor dos olhos (A/V/C): \").upper()\n",
    "    cor_cabelos = input(\"Cor dos cabelos (L/C/P): \").upper()\n",
    "    idade = int(input(\"Idade: \"))\n",
    "    \n",
    "    pessoa = {\n",
    "        'sexo': sexo,\n",
    "        'cor_olhos': cor_olhos,\n",
    "        'cor_cabelos': cor_cabelos,\n",
    "        'idade': idade\n",
    "    }\n",
    "    \n",
    "    pessoas.append(pessoa)\n",
    "\n",
    "maior_idade = max(pessoa['idade'] for pessoa in pessoas)\n",
    "print(\"A maior idade do grupo é: {}\".format(maior_idade))\n",
    "\n",
    "c = 0\n",
    "for pessoa in pessoas:\n",
    "    if pessoa['sexo'] == 'F' and 18 <= pessoa['idade'] <= 35 and pessoa['cor_olhos'] == 'V' and pessoa['cor_cabelos'] == 'L':\n",
    "        c = c  + 1\n",
    "\n",
    "print(\"A quantidade de indivíduos do sexo feminino, cuja idade está entre 18 e 35 anos, com olhos verdes e cabelos louros é: {}\" .format(c))"
   ]
  }
 ],
 "metadata": {
  "kernelspec": {
   "display_name": "Python 3",
   "language": "python",
   "name": "python3"
  },
  "language_info": {
   "codemirror_mode": {
    "name": "ipython",
    "version": 3
   },
   "file_extension": ".py",
   "mimetype": "text/x-python",
   "name": "python",
   "nbconvert_exporter": "python",
   "pygments_lexer": "ipython3",
   "version": "3.12.2"
  }
 },
 "nbformat": 4,
 "nbformat_minor": 2
}
