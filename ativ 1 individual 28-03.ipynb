{
 "cells": [
  {
   "cell_type": "code",
   "execution_count": 8,
   "metadata": {},
   "outputs": [
    {
     "name": "stdout",
     "output_type": "stream",
     "text": [
      "10 é maior que 5\n"
     ]
    }
   ],
   "source": [
    "#1\n",
    "num1 = int(input('digite um numero:'))\n",
    "num2 = int(input('digite outro numero:'))\n",
    "\n",
    "if num1 > num2:\n",
    "    print('{} é maior que {}' .format(num1,num2))\n",
    "elif num2 > num1:\n",
    "    print('{} é maior que {}' .format(num2,num1))\n"
   ]
  },
  {
   "cell_type": "code",
   "execution_count": 10,
   "metadata": {},
   "outputs": [
    {
     "name": "stdout",
     "output_type": "stream",
     "text": [
      "voce deve comprar o 2° produto\n"
     ]
    }
   ],
   "source": [
    "#2\n",
    "p1 = float(input('informe o preço do 1° produto:'))\n",
    "p2 = float(input('informe o preço do 2° produto:'))\n",
    "p3 = float(input('informe o preço do 3° produto:'))\n",
    "\n",
    "if p1 > p2 and p1 > p3 :\n",
    "    print('voce deve comprar o 1° produto')\n",
    "elif p2 > p1 and p2 > p3:\n",
    "    print('voce deve comprar o 2° produto')\n",
    "elif p3 > p1 and p3 > p2 :\n",
    "    print('voce deve comprar o 3° produto')\n",
    "\n",
    "    \n",
    "\n",
    "    \n",
    "    "
   ]
  },
  {
   "cell_type": "code",
   "execution_count": 15,
   "metadata": {},
   "outputs": [
    {
     "name": "stdout",
     "output_type": "stream",
     "text": [
      "sua media foi 9.149999999999999, aprovado\n"
     ]
    }
   ],
   "source": [
    "#3\n",
    "nota1 = float(input('digite a 1ª nota'))\n",
    "nota2 = float(input('digite a 2ª nota'))\n",
    "\n",
    "media = (nota1 + nota2) / 2\n",
    "\n",
    "if media >= 7:\n",
    "    print('sua media foi {}, aprovado' .format(media))\n",
    "elif media <= 7:\n",
    "    print('sua media foi {}, reprovado' .format(media))\n",
    "elif media == 10:\n",
    "    print('sua media foi {}, aprovado com distinção' .format(media))"
   ]
  },
  {
   "cell_type": "code",
   "execution_count": 31,
   "metadata": {},
   "outputs": [
    {
     "name": "stdout",
     "output_type": "stream",
     "text": [
      "seu salario antes do reajuste era R$650, o percentual de aumento aplicado foi de 15%, o valor do aumento foi de R$1.15, o seu novo salário é R$747.4999999999999\n"
     ]
    }
   ],
   "source": [
    "#4\n",
    "salario_atual = int(input('digite o seu salario'))\n",
    "reajuste = int(input('digite o valor do reajuste: 5%, 10%, 15% ou 20% ? (digite somente o numero)'))\n",
    "\n",
    "if salario_atual < 280:\n",
    "    aumento = 1 + 0.20\n",
    "    salario_novo = salario_atual * aumento \n",
    "    print('seu salario antes do reajuste era R${}, o percentual de aumento aplicado foi de {}%, o valor do aumento foi de R${}, o seu novo salário é R${}.' .format(salario_atual, reajuste, aumento, salario_novo))\n",
    "elif salario_atual >= 280 and salario_atual <= 700 :\n",
    "    aumento = 1 + 0.15\n",
    "    salario_novo = salario_atual * aumento \n",
    "    print('seu salario antes do reajuste era R${}, o percentual de aumento aplicado foi de {}%, o valor do aumento foi de R${}, o seu novo salário é R${}' .format(salario_atual, reajuste, aumento, salario_novo))\n",
    "elif salario_atual > 700 and salario_atual <= 1.500 :\n",
    "    aumento = 1 + 0.10\n",
    "    salario_novo = salario_atual * aumento \n",
    "    print('seu salario antes do reajuste era R${}, o percentual de aumento aplicado foi de {}%, o valor do aumento foi de R${}, o seu novo salário é R${}' .format(salario_atual, reajuste, aumento, salario_novo))\n",
    "elif salario_atual > 1.500:\n",
    "    aumento = 1 + 0.5\n",
    "    salario_novo = salario_atual * aumento \n",
    "    print('seu salario antes do reajuste era R${}, o percentual de aumento aplicado foi de {}%, o valor do aumento foi de R${}, o seu novo salário é R${}' .format(salario_atual, reajuste, aumento, salario_novo))\n",
    "    \n",
    "    "
   ]
  },
  {
   "cell_type": "code",
   "execution_count": 40,
   "metadata": {},
   "outputs": [
    {
     "name": "stdout",
     "output_type": "stream",
     "text": [
      "3 - terça\n"
     ]
    }
   ],
   "source": [
    "#5\n",
    "domingo = 1\n",
    "segunda = 2 \n",
    "terca = 3\n",
    "quarta = 4 \n",
    "quinta = 5 \n",
    "sexta = 6\n",
    "sabado = 7\n",
    "\n",
    "num = int(input('digite um numero:'))\n",
    "\n",
    "if num ==  domingo :\n",
    "    print('{} - domingo' .format(num))\n",
    "elif num == segunda:\n",
    "    print('{} - segunda' .format(num))\n",
    "elif num == terca:\n",
    "    print('{} - terça' .format(num))\n",
    "elif num == quarta:\n",
    "    print('{} - quarta' .format(num))\n",
    "elif num == quinta:\n",
    "    print('{} - quinta' .format(num))\n",
    "elif num == sexta:\n",
    "    print('{} - sexta' .format(num))\n",
    "elif num == sabado:\n",
    "    print('{} - sábado ' .format(num))\n",
    "\n",
    "\n"
   ]
  },
  {
   "cell_type": "code",
   "execution_count": 49,
   "metadata": {},
   "outputs": [
    {
     "name": "stdout",
     "output_type": "stream",
     "text": [
      "o seu salario bruto é R$2310.0, seu desconto fgts é de R$254.1, o seu desconto inss é de R$231.0, o seu desconto IR é de R$462.0, seu salario liquido é de R$1362.9\n"
     ]
    }
   ],
   "source": [
    "#6\n",
    "salario_hora = float(input('qual o valor da sua hora ?'))\n",
    "horas_mes = int(input('qual quantidade de horas trabalhadas no mês ?'))\n",
    "salario_bruto = (horas_mes * salario_hora) \n",
    "fgts = salario_bruto * 0.11\n",
    "inss = salario_bruto * 0.10\n",
    "\n",
    "\n",
    "\n",
    "if salario_bruto <= 900: \n",
    "    descontos =  inss + fgts\n",
    "    salario_liquido = salario_bruto - descontos\n",
    "    print('o seu salario bruto é R${}, seu desconto fgts é de R${}, o seu desconto inss é de R${}, vc é isento do desconto IR, seu salario liquido é de R${}' .format(salario_bruto,fgts,inss, ir, salario_liquido))\n",
    "elif salario_bruto > 900 and salario_bruto <= 1.500:\n",
    "    ir = salario_bruto * 0.15\n",
    "    descontos = ir + inss + fgts\n",
    "    salario_liquido = salario_bruto - descontos\n",
    "    print('o seu salario bruto é R${}, seu desconto fgts é de R${}, o seu desconto inss é de R${}, o seu desconto IR é de R${}, seu salario liquido é de R${}' .format(salario_bruto,fgts,inss, ir, salario_liquido))\n",
    "elif salario_bruto > 1.500 and salario_bruto <= 2.500:\n",
    "    ir = salario_bruto * 0.10\n",
    "    descontos = ir + inss + fgts\n",
    "    salario_liquido = salario_bruto - descontos\n",
    "    print('o seu salario bruto é R${}, seu desconto fgts é de R${}, o seu desconto inss é de R${}, o seu desconto IR é de R${}, seu salario liquido é de R${}' .format(salario_bruto,fgts,inss, ir, salario_liquido))\n",
    "elif salario_bruto > 2.500 :\n",
    "    ir = salario_bruto * 0.20\n",
    "    descontos = ir + inss + fgts\n",
    "    salario_liquido = salario_bruto - descontos\n",
    "    print('o seu salario bruto é R${}, seu desconto fgts é de R${}, o seu desconto inss é de R${}, o seu desconto IR é de R${}, seu salario liquido é de R${}' .format(salario_bruto,fgts,inss, ir, salario_liquido))"
   ]
  },
  {
   "cell_type": "code",
   "execution_count": 56,
   "metadata": {},
   "outputs": [
    {
     "name": "stdout",
     "output_type": "stream",
     "text": [
      "vc pagará R$15.400000000000002\n"
     ]
    }
   ],
   "source": [
    "#7\n",
    "\n",
    "\n",
    "litros = int(input('qual o numero de litros vendidos ?'))\n",
    "combustivel = str(input('qual o tipo de combustivel [ a - alcool ou g - gasolina]'))\n",
    "if litros <= 20 and combustivel == 'a':\n",
    "    desconto_a = litros * 0.3\n",
    "    valor = desconto_a * 4.19\n",
    "    print('vc pagará R${}' .format(valor))\n",
    "if litros > 20 and combustivel == 'a':\n",
    "    desconto_a = litros * 0.5\n",
    "    valor = desconto_a * 4.19\n",
    "    print('vc pagará R${}' .format(valor))\n",
    "if litros <= 20 and combustivel == 'g':\n",
    "    desconto_a = litros * 0.4\n",
    "    valor = desconto_a * 5.50\n",
    "    print('vc pagará R${}' .format(valor))\n",
    "if litros > 20 and combustivel == 'g':\n",
    "    desconto_a = litros * 0.6\n",
    "    valor = desconto_a * 5.50\n",
    "    print('vc pagará R${}' .format(valor))\n",
    "\n",
    "    \n"
   ]
  },
  {
   "cell_type": "code",
   "execution_count": 54,
   "metadata": {},
   "outputs": [
    {
     "name": "stdout",
     "output_type": "stream",
     "text": [
      "suspeita\n"
     ]
    }
   ],
   "source": [
    "#8\n",
    "p1 = int(input(\"Telefonou para a vítima? [ 1 - para SIM e 0 - para NÃO]\"))\n",
    "p2 = int(input(\"Esteve no local do crime? [ 1 - para SIM e 0 - para NÃO]\"))\n",
    "p3 = int(input(\"Mora perto da vítima? [ 1 - para SIM e 0 - para NÃO]\"))\n",
    "p4 = int(input(\"Devia para a vítima? [ 1 - para SIM e 0 - para NÃO]\"))\n",
    "p5 = int(input(\"Já trabalhou com a vítima? [ 1 - para SIM e 0 - para NÃO]\"))\n",
    "\n",
    "respostas = p1 + p2 + p3 + p4 + p5\n",
    "\n",
    "if (respostas < 2)  :\n",
    "    print('inocente')\n",
    "elif (respostas == 2) :\n",
    "    print('suspeita')\n",
    "elif (respostas <= 4) and (respostas >= 3) :\n",
    "    print('cumplice')\n",
    "elif (respostas == 5):\n",
    "    print('assassino')\n",
    "    \n",
    "\n"
   ]
  }
 ],
 "metadata": {
  "kernelspec": {
   "display_name": "Python 3",
   "language": "python",
   "name": "python3"
  },
  "language_info": {
   "codemirror_mode": {
    "name": "ipython",
    "version": 3
   },
   "file_extension": ".py",
   "mimetype": "text/x-python",
   "name": "python",
   "nbconvert_exporter": "python",
   "pygments_lexer": "ipython3",
   "version": "3.12.2"
  }
 },
 "nbformat": 4,
 "nbformat_minor": 2
}
