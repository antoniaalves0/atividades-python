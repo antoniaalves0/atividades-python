{
 "cells": [
  {
   "cell_type": "code",
   "execution_count": 2,
   "metadata": {},
   "outputs": [
    {
     "name": "stdout",
     "output_type": "stream",
     "text": [
      "1\n",
      "2\n",
      "3\n",
      "4\n",
      "5\n",
      "6\n",
      "7\n",
      "8\n",
      "9\n",
      "10\n",
      "11\n",
      "12\n",
      "13\n",
      "14\n",
      "15\n",
      "16\n",
      "17\n",
      "18\n",
      "19\n",
      "20\n",
      "21\n",
      "22\n",
      "23\n",
      "24\n",
      "25\n",
      "26\n",
      "27\n",
      "28\n",
      "29\n",
      "30\n",
      "31\n",
      "32\n",
      "33\n",
      "34\n",
      "35\n",
      "36\n",
      "37\n",
      "38\n",
      "39\n",
      "40\n",
      "41\n",
      "42\n",
      "43\n",
      "44\n",
      "45\n",
      "46\n",
      "47\n",
      "48\n",
      "49\n",
      "50\n",
      "51\n",
      "52\n",
      "53\n",
      "54\n",
      "55\n",
      "56\n",
      "57\n",
      "58\n",
      "59\n",
      "60\n",
      "61\n",
      "62\n",
      "63\n",
      "64\n",
      "65\n",
      "66\n",
      "67\n",
      "68\n",
      "69\n",
      "70\n",
      "71\n",
      "72\n",
      "73\n",
      "74\n",
      "75\n",
      "76\n",
      "77\n",
      "78\n",
      "79\n",
      "80\n",
      "81\n",
      "82\n",
      "83\n",
      "84\n",
      "85\n",
      "86\n",
      "87\n",
      "88\n",
      "89\n",
      "90\n",
      "91\n",
      "92\n",
      "93\n",
      "94\n",
      "95\n",
      "96\n",
      "97\n",
      "98\n",
      "99\n",
      "100\n"
     ]
    }
   ],
   "source": [
    "#1\n",
    "x = 1 \n",
    "while x <= 100 :\n",
    "    print(x)\n",
    "    x = x + 1"
   ]
  },
  {
   "cell_type": "code",
   "execution_count": 5,
   "metadata": {},
   "outputs": [
    {
     "ename": "AttributeError",
     "evalue": "'int' object has no attribute 'sort'",
     "output_type": "error",
     "traceback": [
      "\u001b[1;31m---------------------------------------------------------------------------\u001b[0m",
      "\u001b[1;31mAttributeError\u001b[0m                            Traceback (most recent call last)",
      "Cell \u001b[1;32mIn[5], line 4\u001b[0m\n\u001b[0;32m      2\u001b[0m x \u001b[38;5;241m=\u001b[39m \u001b[38;5;241m1\u001b[39m \n\u001b[0;32m      3\u001b[0m \u001b[38;5;28;01mwhile\u001b[39;00m x \u001b[38;5;241m<\u001b[39m\u001b[38;5;241m=\u001b[39m \u001b[38;5;241m100\u001b[39m :\n\u001b[1;32m----> 4\u001b[0m     \u001b[38;5;28mprint\u001b[39m(\u001b[43mx\u001b[49m\u001b[38;5;241;43m.\u001b[39;49m\u001b[43msort\u001b[49m(x))\n\u001b[0;32m      5\u001b[0m     x \u001b[38;5;241m=\u001b[39m x \u001b[38;5;241m+\u001b[39m \u001b[38;5;241m1\u001b[39m\n",
      "\u001b[1;31mAttributeError\u001b[0m: 'int' object has no attribute 'sort'"
     ]
    }
   ],
   "source": [
    "#2\n",
    "x = 1 \n",
    "while x <= 100 :\n",
    "    print(x)\n",
    "    x = x + 1"
   ]
  },
  {
   "cell_type": "code",
   "execution_count": 6,
   "metadata": {},
   "outputs": [
    {
     "name": "stdout",
     "output_type": "stream",
     "text": [
      "a soma é 25\n"
     ]
    }
   ],
   "source": [
    "#3\n",
    "num1 = int(input('digite um numero:'))\n",
    "num2 = int(input('digite um numero:'))\n",
    "num3 = int(input('digite um numero:'))\n",
    "num4 = int(input('digite um numero:'))\n",
    "num5 = int(input('digite um numero:'))\n",
    "\n",
    "soma = num1 + num2 + num3 + num4 + num5\n",
    "\n",
    "print('a soma é {}'.format(soma))"
   ]
  },
  {
   "cell_type": "code",
   "execution_count": 8,
   "metadata": {},
   "outputs": [
    {
     "name": "stdout",
     "output_type": "stream",
     "text": [
      "a media dos 3 numeros é: 5.666666666666667\n"
     ]
    }
   ],
   "source": [
    "#4\n",
    "n = int(input('digite a qtd de numeros para calcular media: '))\n",
    "soma = 0\n",
    "c = 0\n",
    "while c < n :\n",
    "    num = float(input('digite um numero: '))\n",
    "    soma = soma + num\n",
    "    c = c + 1\n",
    "    \n",
    "media = soma / n \n",
    "print('a media dos {} numeros é: {}' .format(n,media))"
   ]
  },
  {
   "cell_type": "code",
   "execution_count": 7,
   "metadata": {},
   "outputs": [
    {
     "name": "stdout",
     "output_type": "stream",
     "text": [
      "o numero 2 É PAR\n",
      "o numero 5 É IMPAR\n",
      "o numero 9 É IMPAR\n",
      "o numero 6 É PAR\n",
      "o numero 4 É PAR\n"
     ]
    }
   ],
   "source": [
    "#5\n",
    "n = int(input('digite a qtd de numeros para mostrar se é par: '))\n",
    "\n",
    "c = 0\n",
    "while c < n :\n",
    "    num = int(input('digite um numero: '))\n",
    "    c = c + 1\n",
    "    if  num % 2 == 0:\n",
    "        print('o numero {} É PAR' .format(num))\n",
    "    else:\n",
    "        print('o numero {} É IMPAR' .format(num))\n",
    "\n",
    "        "
   ]
  },
  {
   "cell_type": "code",
   "execution_count": null,
   "metadata": {},
   "outputs": [],
   "source": [
    "#6\n",
    "n = int(input('digite a qtd de numeros para mostrar se é impar: '))\n",
    "\n",
    "c = 0\n",
    "while c < n :\n",
    "    num = int(input('digite um numero: '))\n",
    "    c = c + 1\n",
    "    if  num % 2 == 0:\n",
    "        print('o numero {} É IMPAR' .format(num))\n",
    "    else:\n",
    "        print('o numero {} É PAR' .format(num))"
   ]
  },
  {
   "cell_type": "code",
   "execution_count": 36,
   "metadata": {},
   "outputs": [
    {
     "name": "stdout",
     "output_type": "stream",
     "text": [
      "a soma dos numeros é: 15\n",
      "o menor numero é: 0\n",
      "o maior numero é: 9\n"
     ]
    }
   ],
   "source": [
    "#7\n",
    "n = int(input('digite a quantidade de numeros:'))\n",
    "soma = 0\n",
    "maior = 0\n",
    "menor = 0 \n",
    "for c in range (n):\n",
    "    num = int(input('digite um numero: '))\n",
    "    soma = soma + num \n",
    "    if num < menor :\n",
    "        menor = num \n",
    "    if num > maior:\n",
    "        maior = num\n",
    "print('a soma dos numeros é: {}' .format(soma))\n",
    "print('o menor numero é: {}' .format(menor))\n",
    "print('o maior numero é: {}' .format(maior))\n",
    "\n",
    "\n",
    "\n",
    "    \n",
    "    \n",
    "\n",
    "\n",
    "    \n"
   ]
  },
  {
   "cell_type": "code",
   "execution_count": 37,
   "metadata": {},
   "outputs": [
    {
     "name": "stdout",
     "output_type": "stream",
     "text": [
      "Digite os dados da pessoa 1:\n",
      "Digite os dados da pessoa 2:\n",
      "Digite os dados da pessoa 3:\n"
     ]
    }
   ],
   "source": [
    "#8\n",
    "dados_pessoas = []\n",
    "\n",
    "# Capturando os dados de cada pessoa\n",
    "for i in range(500):\n",
    "    print(f\"Digite os dados da pessoa {i + 1}:\")\n",
    "    sexo = input(\"Sexo (M/F): \").upper()\n",
    "    cor_olhos = input(\"Cor dos olhos (A/V/C): \").upper()\n",
    "    cor_cabelos = input(\"Cor dos cabelos (L/C/P): \").upper()\n",
    "    idade = int(input(\"Idade: \"))\n",
    "    \n",
    "    # Armazenando os dados em um dicionário\n",
    "    pessoa = {\n",
    "        'sexo': sexo,\n",
    "        'cor_olhos': cor_olhos,\n",
    "        'cor_cabelos': cor_cabelos,\n",
    "        'idade': idade\n",
    "    }\n",
    "    \n",
    "    # Adicionando o dicionário à lista de dados_pessoas\n",
    "    dados_pessoas.append(pessoa)\n",
    "\n",
    "# A) Encontrando a maior idade do grupo\n",
    "maior_idade = max(pessoa['idade'] for pessoa in dados_pessoas)\n",
    "print(f\"A maior idade do grupo é: {maior_idade}\")\n",
    "\n",
    "# B) Contando indivíduos do sexo feminino, cuja idade está entre 18 e 35 anos, com olhos verdes e cabelos louros\n",
    "contador = 0\n",
    "for pessoa in dados_pessoas:\n",
    "    if pessoa['sexo'] == 'F' and 18 <= pessoa['idade'] <= 35 and pessoa['cor_olhos'] == 'V' and pessoa['cor_cabelos'] == 'L':\n",
    "        contador += 1\n",
    "\n",
    "print(f\"A quantidade de indivíduos do sexo feminino, cuja idade está entre 18 e 35 anos, com olhos verdes e cabelos louros é: {contador}\")"
   ]
  }
 ],
 "metadata": {
  "kernelspec": {
   "display_name": "Python 3",
   "language": "python",
   "name": "python3"
  },
  "language_info": {
   "codemirror_mode": {
    "name": "ipython",
    "version": 3
   },
   "file_extension": ".py",
   "mimetype": "text/x-python",
   "name": "python",
   "nbconvert_exporter": "python",
   "pygments_lexer": "ipython3",
   "version": "3.12.2"
  }
 },
 "nbformat": 4,
 "nbformat_minor": 2
}
