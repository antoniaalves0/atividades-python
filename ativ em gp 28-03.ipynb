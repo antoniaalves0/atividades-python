{
 "cells": [
  {
   "cell_type": "code",
   "execution_count": 7,
   "metadata": {},
   "outputs": [
    {
     "name": "stdout",
     "output_type": "stream",
     "text": [
      "Valor total das vendas do Funcionário: R$ 24000 , Salário Base R$ 1200.0, Comissão R$20, Salário Bruto R$1220.0, Imposto de Renda 0.12,Salário Líquido 1219.88\n"
     ]
    }
   ],
   "source": [
    "#1\n",
    "\n",
    "codigo1 = int (16000)\n",
    "codigo2 = int(4000)\n",
    "imposto = 0.12\n",
    "comissao_w = 20\n",
    "comissao_j =  50\n",
    "comissao_j2 = 80\n",
    "salario_base = float(input('digite o salario base: '))\n",
    "qtd = int(input('digite a quantidade total de vendas realizadas: '))\n",
    "tipo = str(input('digite W para windsurf e J para jetsky:'))\n",
    "\n",
    "\n",
    "if (tipo == 'J') and ( qtd < 3):\n",
    "    salario_bruto = salario_base +  comissao_j\n",
    "    salario_liquido = salario_bruto - imposto\n",
    "    valor_total = codigo1 * qtd\n",
    "    print('Valor total das vendas do Funcionário: R$ {} , Salário Base R$ {}, Comissão R${}, Salário Bruto R${}, Imposto de Renda {},Salário Líquido {}' .format(valor_total, salario_base, comissao_j,salario_bruto, imposto  , salario_liquido ))\n",
    "elif (tipo == 'J') and ( qtd >= 3):\n",
    "    salario_bruto = salario_base +  comissao_j2\n",
    "    salario_liquido = salario_bruto - imposto\n",
    "    valor_total = codigo1 * qtd\n",
    "    print('Valor total das vendas do Funcionário: R$ {} , Salário Base R$ {}, Comissão R${}, Salário Bruto R${}, Imposto de Renda {},Salário Líquido {}' .format(valor_total, salario_base, comissao_j2 ,salario_bruto, imposto , salario_liquido ))\n",
    "elif (tipo == 'W') :\n",
    "    salario_bruto = salario_base +  comissao_w\n",
    "    salario_liquido = salario_bruto - imposto\n",
    "    valor_total = codigo2 * qtd\n",
    "    print('Valor total das vendas do Funcionário: R$ {} , Salário Base R$ {}, Comissão R${}, Salário Bruto R${}, Imposto de Renda {},Salário Líquido {}' .format(valor_total, salario_base, comissao_w ,salario_bruto, imposto  , salario_liquido ))\n",
    "elif (tipo == 'J') and ( qtd > 8):\n",
    "    print('Você será promovido')\n",
    "    \n",
    "\n",
    "    \n",
    "\n",
    "    "
   ]
  },
  {
   "cell_type": "code",
   "execution_count": 17,
   "metadata": {},
   "outputs": [
    {
     "name": "stdout",
     "output_type": "stream",
     "text": [
      "O maior numero é 12\n",
      "O menor numero é 0\n",
      "A média dos valores já fornecidos é 4.666666666666667\n",
      "Quantidade de números pares que são divisores de 3 3\n",
      "Quantidade de números impares que não são divisores de 3 1\n"
     ]
    }
   ],
   "source": [
    "#2\n",
    "lista = []\n",
    "soma  = 0\n",
    "media = 0\n",
    "par = num % 2 \n",
    "i = 0\n",
    "for i in range(1,100): \n",
    "    num =  int(input('digite um numero entre 1 e 100'))\n",
    "    i = i + 1\n",
    "    \n",
    "    lista.append(num)\n",
    "    \n",
    "    if num == 0:\n",
    "        break\n",
    "    soma = soma + num\n",
    "    media = soma / num\n",
    "maior = max(num for num in lista)\n",
    "print( 'O maior numero é {}'.format(maior))\n",
    "\n",
    "menor = min(num for num in lista)\n",
    "print( 'O menor numero é {}'.format(menor))\n",
    "    \n",
    "print('A média dos valores já fornecidos é {}' .format(media))\n",
    "\n",
    "par = sum(1 for num in lista if num % 2 == 0 and num % 3 == 0)\n",
    "impar= sum(1 for num in lista if num % 2 != 0 and num % 3 != 0)\n",
    "print('Quantidade de números pares que são divisores de 3 é {}' .format(par))\n",
    "print('Quantidade de números impares que não são divisores de 3 é {}' .format(impar))\n",
    "\n"
   ]
  },
  {
   "cell_type": "code",
   "execution_count": null,
   "metadata": {},
   "outputs": [],
   "source": [
    "#3\n"
   ]
  }
 ],
 "metadata": {
  "kernelspec": {
   "display_name": "Python 3",
   "language": "python",
   "name": "python3"
  },
  "language_info": {
   "codemirror_mode": {
    "name": "ipython",
    "version": 3
   },
   "file_extension": ".py",
   "mimetype": "text/x-python",
   "name": "python",
   "nbconvert_exporter": "python",
   "pygments_lexer": "ipython3",
   "version": "3.12.2"
  }
 },
 "nbformat": 4,
 "nbformat_minor": 2
}
