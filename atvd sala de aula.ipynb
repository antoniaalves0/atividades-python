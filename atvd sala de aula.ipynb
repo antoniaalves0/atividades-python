{
 "cells": [
  {
   "cell_type": "code",
   "execution_count": 3,
   "metadata": {},
   "outputs": [
    {
     "name": "stdout",
     "output_type": "stream",
     "text": [
      "ola antoninha\n"
     ]
    }
   ],
   "source": [
    "print ('ola antoninha')"
   ]
  },
  {
   "cell_type": "code",
   "execution_count": 26,
   "metadata": {},
   "outputs": [
    {
     "name": "stdout",
     "output_type": "stream",
     "text": [
      "fique em casa, mas ajude nas contas\n"
     ]
    }
   ],
   "source": [
    "idade = int(input('qual sua idade?'))\n",
    "if (idade >= 18) and (idade <=27):\n",
    "    print ('Pode morar sozinho, mas pague suas contas')\n",
    "elif (idade >= 28):\n",
    "    print ('Ja deveria casar')\n",
    "else:\n",
    "    print ('fique em casa, mas ajude nas contas')"
   ]
  },
  {
   "cell_type": "code",
   "execution_count": 8,
   "metadata": {},
   "outputs": [
    {
     "name": "stdout",
     "output_type": "stream",
     "text": [
      "O numero 569 é impar\n"
     ]
    }
   ],
   "source": [
    "numero = int(input('informe um numero inteiro'))\n",
    "if numero % 2 == 0:\n",
    "    print ('o número {} é par' .format(numero)) #{} e .format() substitui a virgula\n",
    "else:\n",
    "    print('O numero {} é impar'.format(numero))"
   ]
  },
  {
   "cell_type": "code",
   "execution_count": 15,
   "metadata": {},
   "outputs": [
    {
     "name": "stdout",
     "output_type": "stream",
     "text": [
      "vc é do grupo ADULTOS\n"
     ]
    }
   ],
   "source": [
    "idade = int(input('qual sua idade?'))\n",
    "if (idade >=5) & (idade<=7):\n",
    "    print('vc é do infantil A')\n",
    "elif (idade >=8) and (idade<=11):\n",
    "    print('vc é do infantil B')\n",
    "elif (idade >=12) and (idade<=13):\n",
    "    print('vc é do juvenil A')\n",
    "elif (idade >=14) and (idade<=17):\n",
    "    print('vc é do juvenil B')\n",
    "else: \n",
    "    print('vc é do grupo ADULTOS')\n"
   ]
  },
  {
   "cell_type": "code",
   "execution_count": 1,
   "metadata": {},
   "outputs": [
    {
     "name": "stdout",
     "output_type": "stream",
     "text": [
      "Vc tem 4 anos, não pode competir!\n"
     ]
    }
   ],
   "source": [
    "idade = int(input('qual sua idade?'))\n",
    "if (idade < 5):\n",
    "    print ('Vc tem {} anos, não pode competir!' .format(idade))"
   ]
  },
  {
   "cell_type": "code",
   "execution_count": 23,
   "metadata": {},
   "outputs": [
    {
     "name": "stdout",
     "output_type": "stream",
     "text": [
      "o numero digitado 1\n",
      "o numero digitado 5\n",
      "o numero digitado 89\n",
      "o numero digitado 0\n"
     ]
    }
   ],
   "source": [
    "a = 1\n",
    "while 1==1:\n",
    "    a = int(input('digite um numero inteiro e 0 para sair'))\n",
    "    print ('o numero digitado {}'.format(a))\n",
    "    if a == 0: break"
   ]
  },
  {
   "cell_type": "code",
   "execution_count": 58,
   "metadata": {},
   "outputs": [
    {
     "name": "stdout",
     "output_type": "stream",
     "text": [
      "o numero 152 é par\n",
      "fim de jogo!\n"
     ]
    }
   ],
   "source": [
    "while 1==1:\n",
    "    a = int(input('digite um numero entre 100 e 200 para saber se é par ou impar e qualquer outro numero para sair'))\n",
    "    if a<100 or a>200:\n",
    "        print ('fim de jogo!')\n",
    "        break\n",
    "    elif a % 2 == 0:\n",
    "        print ('o numero {} é par'.format(a))\n",
    "    #else:\n",
    "        #print ('o numero {} é impar'.format(a))"
   ]
  },
  {
   "cell_type": "code",
   "execution_count": null,
   "metadata": {},
   "outputs": [],
   "source": []
  }
 ],
 "metadata": {
  "kernelspec": {
   "display_name": "Python 3",
   "language": "python",
   "name": "python3"
  },
  "language_info": {
   "codemirror_mode": {
    "name": "ipython",
    "version": 3
   },
   "file_extension": ".py",
   "mimetype": "text/x-python",
   "name": "python",
   "nbconvert_exporter": "python",
   "pygments_lexer": "ipython3",
   "version": "3.12.2"
  }
 },
 "nbformat": 4,
 "nbformat_minor": 2
}
